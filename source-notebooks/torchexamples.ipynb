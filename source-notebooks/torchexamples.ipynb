{
 "cells": [
  {
   "cell_type": "code",
   "execution_count": 2,
   "id": "treated-boost",
   "metadata": {},
   "outputs": [],
   "source": [
    "import torch\n",
    "from torch import nn\n",
    "import numpy as np"
   ]
  },
  {
   "cell_type": "code",
   "execution_count": 43,
   "id": "comparable-medium",
   "metadata": {},
   "outputs": [],
   "source": [
    "rnn = nn.RNN(3, 2, bias=False, batch_first=True)"
   ]
  },
  {
   "cell_type": "code",
   "execution_count": 65,
   "id": "vanilla-modern",
   "metadata": {},
   "outputs": [
    {
     "name": "stdout",
     "output_type": "stream",
     "text": [
      "Parameter containing:\n",
      "tensor([[-0.1553,  0.4239,  0.3296],\n",
      "        [ 0.3714, -0.5253, -0.3836]], requires_grad=True)\n",
      "Parameter containing:\n",
      "tensor([[ 0.0805,  0.1363],\n",
      "        [-0.3552,  0.5272]], requires_grad=True)\n"
     ]
    }
   ],
   "source": [
    "print(rnn.weight_ih_l0)\n",
    "print(rnn.weight_hh_l0)"
   ]
  },
  {
   "cell_type": "code",
   "execution_count": 59,
   "id": "varying-jesus",
   "metadata": {},
   "outputs": [],
   "source": [
    "x = torch.randn(5, 3, 3)"
   ]
  },
  {
   "cell_type": "markdown",
   "id": "minor-meditation",
   "metadata": {},
   "source": [
    "h = torch.randn(1,5,2)"
   ]
  },
  {
   "cell_type": "code",
   "execution_count": 74,
   "id": "overall-reserve",
   "metadata": {},
   "outputs": [],
   "source": [
    "h = torch.zeros((1,5,2))"
   ]
  },
  {
   "cell_type": "code",
   "execution_count": 75,
   "id": "serious-salmon",
   "metadata": {},
   "outputs": [
    {
     "name": "stdout",
     "output_type": "stream",
     "text": [
      "tensor([[[0., 0.],\n",
      "         [0., 0.],\n",
      "         [0., 0.],\n",
      "         [0., 0.],\n",
      "         [0., 0.]]])\n"
     ]
    }
   ],
   "source": [
    "print(h)"
   ]
  },
  {
   "cell_type": "code",
   "execution_count": 76,
   "id": "elegant-smith",
   "metadata": {},
   "outputs": [],
   "source": [
    "output, hn = rnn(x, h)"
   ]
  },
  {
   "cell_type": "code",
   "execution_count": 77,
   "id": "structured-strength",
   "metadata": {},
   "outputs": [
    {
     "data": {
      "text/plain": [
       "tensor([[[-0.3569, -1.5037, -1.8602],\n",
       "         [-0.2346, -0.0264, -0.2283],\n",
       "         [-0.6484,  0.5830,  0.5309]],\n",
       "\n",
       "        [[-1.9576, -1.8198, -1.3264],\n",
       "         [-0.0254,  2.0516,  0.8738],\n",
       "         [-0.3639, -0.6940,  0.7836]],\n",
       "\n",
       "        [[-0.4094, -0.4804,  1.1435],\n",
       "         [-0.4696, -0.1970,  1.3389],\n",
       "         [ 0.6671,  0.1869, -0.6012]],\n",
       "\n",
       "        [[ 1.3367,  0.0405,  2.3852],\n",
       "         [ 1.8146,  0.8041, -0.1837],\n",
       "         [ 0.3763, -0.3636, -1.1467]],\n",
       "\n",
       "        [[ 0.4333,  1.3355,  0.6118],\n",
       "         [ 0.2881, -1.0250,  0.0670],\n",
       "         [-0.5394,  0.9531,  0.8956]]])"
      ]
     },
     "execution_count": 77,
     "metadata": {},
     "output_type": "execute_result"
    }
   ],
   "source": [
    "x"
   ]
  },
  {
   "cell_type": "code",
   "execution_count": 78,
   "id": "collected-scenario",
   "metadata": {},
   "outputs": [
    {
     "data": {
      "text/plain": [
       "(tensor([[[-0.8322,  0.8789],\n",
       "          [ 0.0028,  0.6488],\n",
       "          [ 0.5452, -0.3882]],\n",
       " \n",
       "         [[-0.7186,  0.6279],\n",
       "          [ 0.8304, -0.6838],\n",
       "          [-0.0058, -0.6209]],\n",
       " \n",
       "         [[ 0.2326, -0.3260],\n",
       "          [ 0.3843, -0.6853],\n",
       "          [-0.2776, -0.1170]],\n",
       " \n",
       "         [[ 0.5341, -0.4135],\n",
       "          [-0.0149, -0.0855],\n",
       "          [-0.5395,  0.6236]],\n",
       " \n",
       "         [[ 0.6047, -0.6500],\n",
       "          [-0.4599,  0.0622],\n",
       "          [ 0.6378, -0.6902]]], grad_fn=<TransposeBackward1>),\n",
       " tensor([[[ 0.5452, -0.3882],\n",
       "          [-0.0058, -0.6209],\n",
       "          [-0.2776, -0.1170],\n",
       "          [-0.5395,  0.6236],\n",
       "          [ 0.6378, -0.6902]]], grad_fn=<StackBackward>))"
      ]
     },
     "execution_count": 78,
     "metadata": {},
     "output_type": "execute_result"
    }
   ],
   "source": [
    "output, hn"
   ]
  },
  {
   "cell_type": "code",
   "execution_count": 30,
   "id": "numerous-bloom",
   "metadata": {},
   "outputs": [],
   "source": [
    "m = nn.Linear(3, 4, bias=False)"
   ]
  },
  {
   "cell_type": "code",
   "execution_count": 31,
   "id": "gothic-question",
   "metadata": {},
   "outputs": [],
   "source": [
    "inputt = torch.randn(5, 3)"
   ]
  },
  {
   "cell_type": "code",
   "execution_count": 36,
   "id": "liked-egyptian",
   "metadata": {},
   "outputs": [
    {
     "name": "stdout",
     "output_type": "stream",
     "text": [
      "Parameter containing:\n",
      "tensor([[-0.0749,  0.0515, -0.4355],\n",
      "        [ 0.1589,  0.1624,  0.3082],\n",
      "        [-0.5652,  0.3952, -0.2641],\n",
      "        [ 0.5214, -0.4879,  0.0238]], requires_grad=True)\n",
      "tensor([[-0.0170, -0.2723, -0.7124],\n",
      "        [-1.4101,  0.9867,  0.9214],\n",
      "        [ 0.2109,  0.7999, -0.4678],\n",
      "        [-0.7239, -0.0634,  0.0549],\n",
      "        [ 1.3760,  0.9072, -0.2153]])\n",
      "tensor([[ 0.2975, -0.2665,  0.0901,  0.1070],\n",
      "        [-0.2447,  0.2200,  0.9435, -1.1947],\n",
      "        [ 0.2291,  0.0193,  0.3205, -0.2915],\n",
      "        [ 0.0271, -0.1084,  0.3696, -0.3452],\n",
      "        [ 0.0374,  0.2997, -0.3622,  0.2697]], grad_fn=<MmBackward>)\n"
     ]
    }
   ],
   "source": [
    "print(m.weight)\n",
    "print(inputt)\n",
    "print(m(inputt))"
   ]
  },
  {
   "cell_type": "code",
   "execution_count": 98,
   "id": "faced-upset",
   "metadata": {},
   "outputs": [
    {
     "name": "stdout",
     "output_type": "stream",
     "text": [
      "[[1 2]\n",
      " [2 3]\n",
      " [1 1]]\n",
      "[[1 0]\n",
      " [2 3]]\n"
     ]
    },
    {
     "data": {
      "text/plain": [
       "array([[5, 6],\n",
       "       [8, 9],\n",
       "       [3, 3]])"
      ]
     },
     "execution_count": 98,
     "metadata": {},
     "output_type": "execute_result"
    }
   ],
   "source": [
    "x = np.array([[1,2],[2,3], [1,1]])\n",
    "h = np.array([[1,0],[2,3]])\n",
    "\n",
    "print(x)\n",
    "print(h)\n",
    "ein = np.einsum('bh,hk->bk', x, h)\n"
   ]
  },
  {
   "cell_type": "code",
   "execution_count": 100,
   "id": "selected-assembly",
   "metadata": {},
   "outputs": [
    {
     "name": "stdout",
     "output_type": "stream",
     "text": [
      "10\n",
      "9\n",
      "8\n",
      "7\n",
      "6\n",
      "5\n",
      "4\n",
      "3\n",
      "2\n",
      "1\n"
     ]
    }
   ],
   "source": []
  },
  {
   "cell_type": "code",
   "execution_count": null,
   "id": "better-script",
   "metadata": {},
   "outputs": [],
   "source": []
  }
 ],
 "metadata": {
  "kernelspec": {
   "display_name": "Python 3",
   "language": "python",
   "name": "python3"
  },
  "language_info": {
   "codemirror_mode": {
    "name": "ipython",
    "version": 3
   },
   "file_extension": ".py",
   "mimetype": "text/x-python",
   "name": "python",
   "nbconvert_exporter": "python",
   "pygments_lexer": "ipython3",
   "version": "3.8.8"
  }
 },
 "nbformat": 4,
 "nbformat_minor": 5
}
