{
 "cells": [
  {
   "cell_type": "code",
   "execution_count": 1,
   "metadata": {},
   "outputs": [],
   "source": [
    "import numpy as np"
   ]
  },
  {
   "cell_type": "code",
   "execution_count": 13,
   "metadata": {},
   "outputs": [],
   "source": [
    "class DenseLayer(object):\n",
    "    \n",
    "    def __init__(self, input_dim, output_dim, use_bias=True):\n",
    "        sq = np.sqrt(1. / input_dim)\n",
    "        print(sq)\n",
    "        self.use_bias = use_bias\n",
    "        self.weights = np.random.uniform(-sq, sq, (output_dim, input_dim))\n",
    "        if use_bias == True:\n",
    "            self.bias = np.random.uniform(-sq, sq, output_dim)\n",
    "        else:\n",
    "            self.bias = np.zeros((output_dim))\n",
    "        \n",
    "    def forward(self, X_in):\n",
    "        return np.tensordot(X_in, self.weights.T, axes=((-1), (0))) + self.bias\n",
    "        \n",
    "    def backward(self, dEdY, X_in):\n",
    "        # dEdW = dEdY * dYdW = dEdY * X\n",
    "        # dEdb = dEdY * dYdb = dEdY\n",
    "        # dEdX = dEdY * dYdX = dEdY * W\n",
    "        axis = tuple(range(len(X.shape) - 1))\n",
    "        dEdW = np.tensordot(dEdY,X_in, axes=((axis), (axis)))\n",
    "        dEdB = np.sum(dEdY, axis=(axis))\n",
    "        dEdX = np.tensordot(dEdY, self.weights, axes=(-1, 0))\n",
    "        \n",
    "        return dEdX, dEdW, dEdB\n",
    "    \n",
    "    def refresh(self, dEdW, dEdB, learning_rate):\n",
    "        self.weights = self.weights - learning_rate * dEdW\n",
    "        if self.use_bias == True:\n",
    "            self.bias = self.bias - learning_rate * dEdB"
   ]
  },
  {
   "cell_type": "code",
   "execution_count": 23,
   "metadata": {},
   "outputs": [
    {
     "name": "stdout",
     "output_type": "stream",
     "text": [
      "0.5773502691896257\n",
      "[[[ 0.42926524 -0.36835554  0.47853077]\n",
      "  [ 0.39149863 -0.33594775  0.4364298 ]\n",
      "  [ 0.2803958  -0.24060962  0.31257602]\n",
      "  [ 0.35373203 -0.30353996  0.39432883]\n",
      "  [ 0.36032297 -0.30919569  0.40167619]]\n",
      "\n",
      " [[ 0.42926524 -0.36835554  0.47853077]\n",
      "  [ 0.39149863 -0.33594775  0.4364298 ]\n",
      "  [ 0.2803958  -0.24060962  0.31257602]\n",
      "  [ 0.35373203 -0.30353996  0.39432883]\n",
      "  [ 0.36032297 -0.30919569  0.40167619]]]\n"
     ]
    }
   ],
   "source": [
    "dense = DenseLayer(3, 1, True)\n",
    "X = np.array([[0.2, 0.5, 0.3],\n",
    "[0.2, 0.4, 0.4],\n",
    "[0.3, 0.1, 0.6],\n",
    "[0.2, 0.3, 0.5],\n",
    "[0.5, 0.3, 0.2]])\n",
    "Y = np.array([[1.], [1.], [1.], [1.], [1.]])\n",
    "\n",
    "num_iter = 1\n",
    "\n",
    "for i in range(num_iter):\n",
    "    Y_c= dense.forward(X)\n",
    "    dEdY = Y - Y_c\n",
    "    _, dEdW, dEdB = dense.backward(dEdY, X)\n",
    "    dense.refresh(dEdW, dEdB, 0.1)"
   ]
  },
  {
   "cell_type": "code",
   "execution_count": 39,
   "metadata": {},
   "outputs": [
    {
     "name": "stdout",
     "output_type": "stream",
     "text": [
      "0.4472135954999579\n"
     ]
    },
    {
     "data": {
      "text/plain": [
       "array([[[ 0.34545989,  0.07336296, -0.16346513, -0.06904482,\n",
       "          0.0458759 ],\n",
       "        [ 0.37271336,  0.07915059, -0.17636096, -0.07449179,\n",
       "          0.04949507],\n",
       "        [ 0.35166208,  0.07468007, -0.16639989, -0.07028441,\n",
       "          0.04669953]],\n",
       "\n",
       "       [[ 0.36616935,  0.07776088, -0.17326446, -0.07318388,\n",
       "          0.04862605],\n",
       "        [ 0.33954613,  0.07210709, -0.16066685, -0.06786287,\n",
       "          0.04509058],\n",
       "        [ 0.35872758,  0.07618053, -0.16974315, -0.07169654,\n",
       "          0.04763781]]])"
      ]
     },
     "execution_count": 39,
     "metadata": {},
     "output_type": "execute_result"
    }
   ],
   "source": [
    "dense = DenseLayer(5,1,True)\n",
    "X = np.array([[[-0.8807276 ,  0.35987167,  0.02073506, -0.9615799 ,\n",
    "          0.50550362],\n",
    "        [-0.93750772,  0.46892908,  0.65712107, -0.92156692,\n",
    "          0.81547692],\n",
    "        [-0.94841669,  0.35337583,  0.13251452, -0.92171502,\n",
    "          0.96708332]],\n",
    "\n",
    "       [[-0.98389102,  0.55071545,  0.50947363, -0.99544429,\n",
    "          0.94198477],\n",
    "        [-0.88292272,  0.46245851, -0.09000733, -0.72606425,\n",
    "          0.81062736],\n",
    "        [-0.58283391, -0.40435749,  0.48705154, -0.8502781 ,\n",
    "          0.20791288]]])\n",
    "\n",
    "Y = np.array([[[1],[1],[1]],[[1],[1],[1]]])\n",
    "\n",
    "num_iter = 1\n",
    "l = []\n",
    "for i in range(num_iter):\n",
    "    Y_c= dense.forward(X)\n",
    "    dEdY = Y - Y_c\n",
    "    dEdX, dEdW, dEdB = dense.backward(dEdY, X)\n",
    "    l = dEdX\n",
    "\n",
    "l"
   ]
  }
 ],
 "metadata": {
  "kernelspec": {
   "display_name": "Python 3",
   "language": "python",
   "name": "python3"
  },
  "language_info": {
   "codemirror_mode": {
    "name": "ipython",
    "version": 3
   },
   "file_extension": ".py",
   "mimetype": "text/x-python",
   "name": "python",
   "nbconvert_exporter": "python",
   "pygments_lexer": "ipython3",
   "version": "3.8.3"
  }
 },
 "nbformat": 4,
 "nbformat_minor": 4
}
