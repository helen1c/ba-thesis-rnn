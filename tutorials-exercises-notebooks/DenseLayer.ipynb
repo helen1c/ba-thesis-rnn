{
 "cells": [
  {
   "cell_type": "code",
   "execution_count": 1,
   "metadata": {},
   "outputs": [],
   "source": [
    "import numpy as np"
   ]
  },
  {
   "cell_type": "code",
   "execution_count": 9,
   "metadata": {},
   "outputs": [],
   "source": [
    "class DenseLayer(object):\n",
    "    \n",
    "    def __init__(self, input_dim, output_dim, use_bias=True):\n",
    "        sq = np.sqrt(1. / input_dim)\n",
    "        print(sq)\n",
    "        self.use_bias = use_bias\n",
    "        self.weights = np.random.uniform(-sq, sq, (output_dim, input_dim))\n",
    "        if use_bias == True:\n",
    "            self.bias = np.random.uniform(-sq, sq, output_dim)\n",
    "        else:\n",
    "            self.bias = np.zeros((output_dim))\n",
    "        \n",
    "    def forward(self, X_in):\n",
    "        return np.tensordot(X_in, self.weights.T, axes=((-1), (0))) + self.bias\n",
    "        \n",
    "    def backward(self, dEdY, X_in):\n",
    "        # dEdW = dEdY * dYdW = dEdY * X\n",
    "        # dEdb = dEdY * dYdb = dEdY\n",
    "        # dEdX = dEdY * dYdX = dEdY * W\n",
    "        axis = tuple(range(len(X_in.shape) - 1))\n",
    "        dEdW = np.tensordot(dEdY,X_in, axes=((axis), (axis)))\n",
    "        dEdB = np.sum(dEdY, axis=(axis))\n",
    "        dEdX = np.tensordot(dEdY, self.weights, axes=(-1, 0))\n",
    "        \n",
    "        return dEdX, dEdW, dEdB\n",
    "    \n",
    "    def refresh(self, dEdW, dEdB, learning_rate):\n",
    "        self.weights = self.weights - learning_rate * dEdW\n",
    "        if self.use_bias == True:\n",
    "            self.bias = self.bias - learning_rate * dEdB"
   ]
  },
  {
   "cell_type": "code",
   "execution_count": 4,
   "metadata": {},
   "outputs": [
    {
     "name": "stdout",
     "output_type": "stream",
     "text": [
      "0.5773502691896257\n",
      "(5, 3)\n"
     ]
    }
   ],
   "source": [
    "dense = DenseLayer(3, 1, True)\n",
    "X = np.array([[0.2, 0.5, 0.3],\n",
    "[0.2, 0.4, 0.4],\n",
    "[0.3, 0.1, 0.6],\n",
    "[0.2, 0.3, 0.5],\n",
    "[0.5, 0.3, 0.2]])\n",
    "Y = np.array([[1.], [1.], [1.], [1.], [1.]])\n",
    "\n",
    "num_iter = 1\n",
    "\n",
    "for i in range(num_iter):\n",
    "    Y_c= dense.forward(X)\n",
    "    dEdY = Y - Y_c\n",
    "    _, dEdW, dEdB = dense.backward(dEdY, X)\n",
    "    dense.refresh(dEdW, dEdB, 0.1)"
   ]
  },
  {
   "cell_type": "code",
   "execution_count": 24,
   "metadata": {},
   "outputs": [
    {
     "name": "stdout",
     "output_type": "stream",
     "text": [
      "0.4472135954999579\n",
      "[[-3.58117345  1.26396149  1.04113282 -3.65308963  2.93671066]]\n",
      "[[ 0.11673595  0.04498842  0.24055984 -0.26035724 -0.11388993]]\n",
      "[[-4.28575571  1.53147037  1.27251577 -4.37003311  3.52568363]]\n",
      "[[ 0.1595935   0.02967372  0.22783469 -0.21665691 -0.14914677]]\n",
      "[[-5.1293508   1.85186057  1.54962808 -5.22839676  4.23092535]]\n",
      "[[ 0.21088701  0.01115511  0.2123384  -0.16437294 -0.19145602]]\n",
      "[[-6.1393865   2.23556647  1.88149242 -6.25608313  5.07537652]]\n",
      "[[ 0.27228088 -0.01120055  0.19352348 -0.10181211 -0.24220979]]\n",
      "[[-7.34870223  2.6950812   2.27891169 -7.48650001  6.08650415]]\n",
      "[[ 0.3457679  -0.03815137  0.17073436 -0.02694711 -0.30307483]]\n",
      "[[-8.79661677  3.24536283  2.75482023 -8.9596467   7.29719458]]\n",
      "[[ 0.43373407 -0.07060499  0.14318616  0.06264936 -0.37604677]]\n",
      "[[-10.53020662   3.90432075   3.32470439 -10.72341449   8.74682278]]\n",
      "[[ 0.53903613 -0.1096482   0.10993912  0.1698835  -0.463515  ]]\n",
      "[[-12.60583667   4.69339793   4.00710601 -12.83514385  10.48253255]]\n",
      "[[ 0.6650945  -0.15658218  0.06986806  0.29823494 -0.56834033]]\n",
      "[[-15.09099286   5.63826812   4.82422533 -15.36348873  12.56076937]]\n",
      "[[ 0.81600443 -0.21296486  0.0216258   0.45186983 -0.69394802]]\n",
      "[[-18.06647633   6.76967063   5.80264279 -18.39064877  15.04911561]]\n",
      "[[ 0.99666919 -0.28066157 -0.03640062  0.63577632 -0.84443918]]\n"
     ]
    }
   ],
   "source": [
    "dense = DenseLayer(5,1,True)\n",
    "X = np.array([[[-0.8807276 ,  0.35987167,  0.02073506, -0.9615799 ,\n",
    "          0.50550362],\n",
    "        [-0.93750772,  0.46892908,  0.65712107, -0.92156692,\n",
    "          0.81547692],\n",
    "        [-0.94841669,  0.35337583,  0.13251452, -0.92171502,\n",
    "          0.96708332]],\n",
    "\n",
    "       [[-0.98389102,  0.55071545,  0.50947363, -0.99544429,\n",
    "          0.94198477],\n",
    "        [-0.88292272,  0.46245851, -0.09000733, -0.72606425,\n",
    "          0.81062736],\n",
    "        [-0.58283391, -0.40435749,  0.48705154, -0.8502781 ,\n",
    "          0.20791288]]])\n",
    "\n",
    "Y = np.array([[[1],[1],[1]],[[1],[1],[1]]])\n",
    "\n",
    "num_iter = 10\n",
    "l = []\n",
    "for i in range(num_iter):\n",
    "    Y_c= dense.forward(X)\n",
    "    dEdY = Y - Y_c\n",
    "    dEdX, dEdW, dEdB = dense.backward(dEdY, X)\n",
    "    dense.refresh(dEdW, dEdB, 0.01)\n",
    "    print(dEdW)\n",
    "    print(dense.weights)"
   ]
  }
 ],
 "metadata": {
  "kernelspec": {
   "display_name": "Python 3",
   "language": "python",
   "name": "python3"
  },
  "language_info": {
   "codemirror_mode": {
    "name": "ipython",
    "version": 3
   },
   "file_extension": ".py",
   "mimetype": "text/x-python",
   "name": "python",
   "nbconvert_exporter": "python",
   "pygments_lexer": "ipython3",
   "version": "3.8.8"
  }
 },
 "nbformat": 4,
 "nbformat_minor": 4
}
