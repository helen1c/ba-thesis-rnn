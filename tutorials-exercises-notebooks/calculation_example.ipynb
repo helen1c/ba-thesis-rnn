{
 "cells": [
  {
   "cell_type": "code",
   "execution_count": 19,
   "id": "asian-serbia",
   "metadata": {},
   "outputs": [],
   "source": [
    "import numpy as np"
   ]
  },
  {
   "cell_type": "code",
   "execution_count": 350,
   "id": "chief-headset",
   "metadata": {},
   "outputs": [],
   "source": [
    "def mse_loss(T,Y):\n",
    "    return 1/2 * np.mean((T-Y)**2)\n",
    "\n",
    "def grad_loss(T,Y):\n",
    "    return -1/Y.shape[0] * (T - Y)"
   ]
  },
  {
   "cell_type": "code",
   "execution_count": 351,
   "id": "greek-murray",
   "metadata": {},
   "outputs": [],
   "source": [
    "#batch velicine 3, svaka \"rijec\" 2 dimenzije, jedna \"recenica\" 3 rijeci\n",
    "\n",
    "X = np.array([[[0.,1.],[1.,0.],[0.,1.]],\n",
    "    [[0.,1.],[0.,1.],[0.,1.]],\n",
    "    [[1.,0.],[1.,0.],[1.,0.]]])\n",
    "T = np.array([[0.],\n",
    "    [1.],\n",
    "    [1.]])\n",
    "\n",
    "#inicijaliziram tezine Whh i Wih, Whh mi je dimenzija 2x2, skrivena stanja dimenzija 1x2, Wih dimenzija 2x2, trenutno radim bez biasa\n",
    "\n",
    "hidden_dim = 3\n",
    "input_dim = 2\n",
    "\n",
    "#radim bez biasa\n",
    "\n",
    "Whh = np.random.uniform(-1,1,(hidden_dim, hidden_dim))\n",
    "Wih = np.random.uniform(-1,1,(hidden_dim, input_dim))\n",
    "Why = np.random.uniform(-1,1,(T.shape[1], hidden_dim))\n",
    "\n",
    "H = np.zeros((X.shape[0], X.shape[1] + 1, hidden_dim))"
   ]
  },
  {
   "cell_type": "code",
   "execution_count": 352,
   "id": "tribal-protest",
   "metadata": {},
   "outputs": [
    {
     "name": "stdout",
     "output_type": "stream",
     "text": [
      "Y=[[-0.73586363]\n",
      " [ 1.17541615]\n",
      " [-0.66213113]]\n",
      "Derivacija lossa po izlazu: [[-0.24528788]\n",
      " [ 0.05847205]\n",
      " [-0.55404371]]\n",
      "Update za parametre izlaznog sloja: [-0.01622044 -0.45520727 -0.46414932]\n"
     ]
    }
   ],
   "source": [
    "#poracunam sva skrivena stanja\n",
    "for i in range(X.shape[1]):\n",
    "    H[:,i+1,:] = np.dot(X[:,i,:], Wih.T) + np.dot(H[:,i,:], Whh.T)    \n",
    "    \n",
    "#izracunam izlaz    \n",
    "Y = np.dot(H[:, X.shape[1], :], Why.T)\n",
    "\n",
    "\n",
    "print(f'Y={Y}')\n",
    "\n",
    "L = mse_loss(T,Y)\n",
    "dLdY = grad_loss(T,Y)\n",
    "print(f'Derivacija lossa po izlazu: {dLdY}')\n",
    "\n",
    "dLdWhy = np.sum(dLdY * H[:, X.shape[1], :], axis=0)\n",
    "print(f'Update za parametre izlaznog sloja: {dLdWhy}')\n",
    "#ovo upitno??\n",
    "dLdht = dLdY * Why.T\n",
    "bptt_grad = np.zeros((X.shape[0], X.shape[1] + 1, hidden_dim))\n",
    "bptt_grad[:,X.shape[1],:] = dLdht.T\n",
    "\n",
    "dLdWhh = np.zeros((hidden_dim, hidden_dim))\n",
    "dLdWih = np.zeros((hidden_dim, input_dim))\n",
    "\n",
    "for i in range(X.shape[1], 0, -1):\n",
    "    dLdWhh += np.dot(bptt_grad[:,i,:], H[:,i-1,:].T)\n",
    "    dLdWih += np.dot(bptt_grad[:,i,:], X[:,i-1,:].T)\n",
    "    bptt_grad[:,i-1,:] = np.dot(bptt_grad[:,i,:], Whh.T)"
   ]
  }
 ],
 "metadata": {
  "kernelspec": {
   "display_name": "Python 3",
   "language": "python",
   "name": "python3"
  },
  "language_info": {
   "codemirror_mode": {
    "name": "ipython",
    "version": 3
   },
   "file_extension": ".py",
   "mimetype": "text/x-python",
   "name": "python",
   "nbconvert_exporter": "python",
   "pygments_lexer": "ipython3",
   "version": "3.8.8"
  }
 },
 "nbformat": 4,
 "nbformat_minor": 5
}
