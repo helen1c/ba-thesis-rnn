{
 "cells": [
  {
   "cell_type": "code",
   "execution_count": 2,
   "id": "recreational-competition",
   "metadata": {},
   "outputs": [],
   "source": [
    "import torch\n",
    "from torch import nn"
   ]
  },
  {
   "cell_type": "code",
   "execution_count": 3,
   "id": "found-nitrogen",
   "metadata": {},
   "outputs": [],
   "source": [
    "RNN_TYPES = ['RNN', 'LSTM', 'GRU']\n",
    "\n",
    "class RNN(nn.Module):\n",
    "    def __init__(self, embedding_dim, hidden_dim, output_dim,\n",
    "                 rnn_type='RNN'):\n",
    "\n",
    "        super().__init__()\n",
    "        self.output_dim = output_dim\n",
    "\n",
    "        assert rnn_type in RNN_TYPES, f'Use one of the following: {str(RNN_TYPES)}'\n",
    "        RnnCell = getattr(nn, rnn_type)\n",
    "        self.rnn = RnnCell(embedding_dim, hidden_dim, batch_first=True, bias=False)\n",
    "        self.fc = nn.Linear(hidden_dim, output_dim, bias=False)\n",
    "\n",
    "    def forward(self, X):\n",
    "        rnn_out, _ = self.rnn(X)\n",
    "        fc_out = self.fc(rnn_out)\n",
    "        return fc_out"
   ]
  },
  {
   "cell_type": "code",
   "execution_count": 4,
   "id": "working-sunrise",
   "metadata": {},
   "outputs": [],
   "source": [
    "batch_size = 32\n",
    "seq_len = 15\n",
    "embedding_dim = 100\n",
    "hidden_dim = 20\n",
    "vocab_size = 5_000\n",
    "rnn_type = 'RNN'"
   ]
  },
  {
   "cell_type": "code",
   "execution_count": 7,
   "id": "floating-screen",
   "metadata": {},
   "outputs": [],
   "source": [
    "X = torch.randn(batch_size, seq_len, embedding_dim)\n",
    "y = torch.randint(vocab_size, (batch_size * seq_len,))\n",
    "\n",
    "rnn = RNN(embedding_dim=embedding_dim,\n",
    "          hidden_dim=hidden_dim,\n",
    "          output_dim=vocab_size,\n",
    "          rnn_type='RNN')\n",
    "\n",
    "cel = nn.CrossEntropyLoss()"
   ]
  },
  {
   "cell_type": "code",
   "execution_count": 8,
   "id": "amino-simon",
   "metadata": {},
   "outputs": [
    {
     "data": {
      "text/plain": [
       "tensor(8.6194, grad_fn=<NllLossBackward>)"
      ]
     },
     "execution_count": 8,
     "metadata": {},
     "output_type": "execute_result"
    }
   ],
   "source": [
    "out = rnn(X).squeeze().view(batch_size * seq_len, vocab_size)\n",
    "cel(out, y)"
   ]
  },
  {
   "cell_type": "code",
   "execution_count": null,
   "id": "italian-demographic",
   "metadata": {},
   "outputs": [],
   "source": []
  },
  {
   "cell_type": "code",
   "execution_count": null,
   "id": "individual-decrease",
   "metadata": {},
   "outputs": [],
   "source": []
  },
  {
   "cell_type": "code",
   "execution_count": null,
   "id": "impressed-championship",
   "metadata": {},
   "outputs": [],
   "source": []
  }
 ],
 "metadata": {
  "kernelspec": {
   "display_name": "Python 3",
   "language": "python",
   "name": "python3"
  },
  "language_info": {
   "codemirror_mode": {
    "name": "ipython",
    "version": 3
   },
   "file_extension": ".py",
   "mimetype": "text/x-python",
   "name": "python",
   "nbconvert_exporter": "python",
   "pygments_lexer": "ipython3",
   "version": "3.8.8"
  }
 },
 "nbformat": 4,
 "nbformat_minor": 5
}
