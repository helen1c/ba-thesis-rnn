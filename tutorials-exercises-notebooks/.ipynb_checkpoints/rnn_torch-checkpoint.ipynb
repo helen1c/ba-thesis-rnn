{
 "cells": [
  {
   "cell_type": "code",
   "execution_count": 2,
   "id": "recreational-competition",
   "metadata": {},
   "outputs": [],
   "source": [
    "import torch\n",
    "from torch import nn"
   ]
  },
  {
   "cell_type": "code",
   "execution_count": 3,
   "id": "found-nitrogen",
   "metadata": {},
   "outputs": [],
   "source": [
    "RNN_TYPES = ['RNN', 'LSTM', 'GRU']\n",
    "\n",
    "class RNN(nn.Module):\n",
    "    def __init__(self, embedding_dim, hidden_dim, output_dim,\n",
    "                 rnn_type='RNN'):\n",
    "\n",
    "        super().__init__()\n",
    "        self.output_dim = output_dim\n",
    "\n",
    "        assert rnn_type in RNN_TYPES, f'Use one of the following: {str(RNN_TYPES)}'\n",
    "        RnnCell = getattr(nn, rnn_type)\n",
    "        self.rnn = RnnCell(embedding_dim, hidden_dim, batch_first=True, bias=False)\n",
    "        self.fc = nn.Linear(hidden_dim, output_dim, bias=False)\n",
    "\n",
    "    def forward(self, X):\n",
    "        rnn_out, _ = self.rnn(X)\n",
    "        fc_out = self.fc(rnn_out)\n",
    "        return fc_out"
   ]
  },
  {
   "cell_type": "code",
   "execution_count": 4,
   "id": "working-sunrise",
   "metadata": {},
   "outputs": [],
   "source": [
    "batch_size = 32\n",
    "seq_len = 15\n",
    "embedding_dim = 100\n",
    "hidden_dim = 20\n",
    "vocab_size = 5_000\n",
    "rnn_type = 'RNN'"
   ]
  },
  {
   "cell_type": "code",
   "execution_count": 6,
   "id": "floating-screen",
   "metadata": {},
   "outputs": [],
   "source": [
    "X = torch.randn(batch_size, seq_len, embedding_dim)\n",
    "y = torch.randint(vocab_size, (batch_size * seq_len,))\n",
    "\n",
    "rnn = RNN(embedding_dim=embedding_dim,\n",
    "          hidden_dim=hidden_dim,\n",
    "          output_dim=vocab_size,\n",
    "          rnn_type='RNN')\n",
    "\n",
    "cel = nn.CrossEntropyLoss()"
   ]
  },
  {
   "cell_type": "code",
   "execution_count": 5,
   "id": "amino-simon",
   "metadata": {},
   "outputs": [
    {
     "ename": "NameError",
     "evalue": "name 'rnn' is not defined",
     "output_type": "error",
     "traceback": [
      "\u001b[1;31m---------------------------------------------------------------------------\u001b[0m",
      "\u001b[1;31mNameError\u001b[0m                                 Traceback (most recent call last)",
      "\u001b[1;32m<ipython-input-5-1be80c8559ef>\u001b[0m in \u001b[0;36m<module>\u001b[1;34m\u001b[0m\n\u001b[1;32m----> 1\u001b[1;33m \u001b[0mout\u001b[0m \u001b[1;33m=\u001b[0m \u001b[0mrnn\u001b[0m\u001b[1;33m(\u001b[0m\u001b[0mX\u001b[0m\u001b[1;33m)\u001b[0m\u001b[1;33m.\u001b[0m\u001b[0msqueeze\u001b[0m\u001b[1;33m(\u001b[0m\u001b[1;33m)\u001b[0m\u001b[1;33m.\u001b[0m\u001b[0mview\u001b[0m\u001b[1;33m(\u001b[0m\u001b[0mbatch_size\u001b[0m \u001b[1;33m*\u001b[0m \u001b[0mseq_len\u001b[0m\u001b[1;33m,\u001b[0m \u001b[0mvocab_size\u001b[0m\u001b[1;33m)\u001b[0m\u001b[1;33m\u001b[0m\u001b[1;33m\u001b[0m\u001b[0m\n\u001b[0m\u001b[0;32m      2\u001b[0m \u001b[0mcel\u001b[0m\u001b[1;33m(\u001b[0m\u001b[0mout\u001b[0m\u001b[1;33m,\u001b[0m \u001b[0my\u001b[0m\u001b[1;33m)\u001b[0m\u001b[1;33m\u001b[0m\u001b[1;33m\u001b[0m\u001b[0m\n",
      "\u001b[1;31mNameError\u001b[0m: name 'rnn' is not defined"
     ]
    }
   ],
   "source": [
    "out = rnn(X).squeeze().view(batch_size * seq_len, vocab_size)\n",
    "cel(out, y)"
   ]
  }
 ],
 "metadata": {
  "kernelspec": {
   "display_name": "Python 3",
   "language": "python",
   "name": "python3"
  },
  "language_info": {
   "codemirror_mode": {
    "name": "ipython",
    "version": 3
   },
   "file_extension": ".py",
   "mimetype": "text/x-python",
   "name": "python",
   "nbconvert_exporter": "python",
   "pygments_lexer": "ipython3",
   "version": "3.8.8"
  }
 },
 "nbformat": 4,
 "nbformat_minor": 5
}
