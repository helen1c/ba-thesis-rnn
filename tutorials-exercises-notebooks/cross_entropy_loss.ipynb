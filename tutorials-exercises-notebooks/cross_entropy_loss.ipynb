{
 "cells": [
  {
   "cell_type": "code",
   "execution_count": 36,
   "id": "cosmetic-contract",
   "metadata": {},
   "outputs": [
    {
     "name": "stdout",
     "output_type": "stream",
     "text": [
      "(2, 3, 4)\n"
     ]
    }
   ],
   "source": [
    "import numpy as np\n",
    "\n",
    "X_in = np.array([[[1,2,1,3],[2,2,3,1],[0,2,3,1]],[[1,3,4,3],[1,2,1,1],[1,0,1,2]]])\n",
    "print(X_in.shape)\n",
    "#batch size 2\n",
    "#timestep 3\n",
    "#dim 4"
   ]
  },
  {
   "cell_type": "code",
   "execution_count": 35,
   "id": "dedicated-blocking",
   "metadata": {},
   "outputs": [],
   "source": [
    "def softmax(x):\n",
    "    return np.exp(x) / np.sum(np.exp(x), axis=0)"
   ]
  },
  {
   "cell_type": "code",
   "execution_count": 38,
   "id": "democratic-fusion",
   "metadata": {},
   "outputs": [],
   "source": [
    "class CrossEntropyLoss(object):\n",
    "    \n",
    "    def forward(self, Y, o):\n",
    "        #prvo za jedan primjer\n",
    "        #ima li svaki podatak iz batcha svoj loss pa se zbraja, ili ce rezultat biti vektor velicina batch_size?\n",
    "        loss = 0.\n",
    "        self.Y_pred = softmax(o)\n",
    "        for i in range (Y.shape[0]):\n",
    "            loss+=(-Y * np.log(Y_pred)).sum()\n",
    "            \n",
    "        return loss\n",
    "    \n",
    "    def backward(self,Y):\n",
    "        return self.Y_pred - Y"
   ]
  },
  {
   "cell_type": "code",
   "execution_count": 39,
   "id": "distributed-genesis",
   "metadata": {},
   "outputs": [
    {
     "name": "stdout",
     "output_type": "stream",
     "text": [
      "4.333392830695951\n",
      "[[[ 0.68564883  0.50124999 -0.49875001]\n",
      "  [ 0.50749719 -0.4156146   0.40925602]]\n",
      "\n",
      " [[ 0.31435117  0.49875001 -0.50124999]\n",
      "  [ 0.49250281  0.4156146  -0.40925602]]]\n"
     ]
    }
   ],
   "source": [
    "o = np.array([[[2.21,0.12,0.78],[0.12,0.80,0.08]],[[0.12,0.11,0.77],[0.06,0.09,0.85]]])\n",
    "Y_pred = softmax(o)\n",
    "Y = np.array([[[0.,0.,1.],[0.,1.,0.]],[[0.,0.,1.],[0.,0.,1.]]])\n",
    "\n",
    "clos = CrossEntropyLoss()\n",
    "\n",
    "print(clos.forward(Y,Y_pred))\n",
    "print(clos.backward(Y))"
   ]
  }
 ],
 "metadata": {
  "kernelspec": {
   "display_name": "Python 3",
   "language": "python",
   "name": "python3"
  },
  "language_info": {
   "codemirror_mode": {
    "name": "ipython",
    "version": 3
   },
   "file_extension": ".py",
   "mimetype": "text/x-python",
   "name": "python",
   "nbconvert_exporter": "python",
   "pygments_lexer": "ipython3",
   "version": "3.8.8"
  }
 },
 "nbformat": 4,
 "nbformat_minor": 5
}
