{
 "cells": [
  {
   "cell_type": "code",
   "execution_count": 1,
   "id": "adapted-consideration",
   "metadata": {},
   "outputs": [],
   "source": [
    "import pandas as pd"
   ]
  },
  {
   "cell_type": "code",
   "execution_count": 2,
   "id": "suffering-rally",
   "metadata": {},
   "outputs": [],
   "source": [
    "data_path_train = 'dd_dataset/train/train/dialogues_train.txt'\n",
    "data_path_test = 'dd_dataset/test/test/dialogues_test.txt'\n",
    "data_path_valid  = 'dd_dataset/validation/validation/dialogues_validation.txt'\n",
    "data_path_train_csv = 'dd_dataset/train/train/train.csv'\n",
    "data_path_test_csv = 'dd_dataset/test/test/test.csv'\n",
    "data_path_valid_csv  = 'dd_dataset/validation/validation/validation.csv'\n",
    "names = [\"text\"]\n",
    "data_train = pd.read_csv(data_path_train, delimiter=\"\\n\", names=names, header=None, engine=\"python\")\n",
    "data_test = pd.read_csv(data_path_test, delimiter=\"\\n\", names=names, header=None, engine=\"python\")\n",
    "data_valid = pd.read_csv(data_path_valid, delimiter=\"\\n\", names=names, header=None, engine=\"python\")"
   ]
  },
  {
   "cell_type": "code",
   "execution_count": 3,
   "id": "unsigned-longitude",
   "metadata": {},
   "outputs": [],
   "source": [
    "data_train.to_csv(data_path_train_csv)\n",
    "data_test.to_csv(data_path_test_csv)\n",
    "data_valid.to_csv(data_path_valid_csv)"
   ]
  }
 ],
 "metadata": {
  "kernelspec": {
   "display_name": "Python 3",
   "language": "python",
   "name": "python3"
  },
  "language_info": {
   "codemirror_mode": {
    "name": "ipython",
    "version": 3
   },
   "file_extension": ".py",
   "mimetype": "text/x-python",
   "name": "python",
   "nbconvert_exporter": "python",
   "pygments_lexer": "ipython3",
   "version": "3.8.8"
  }
 },
 "nbformat": 4,
 "nbformat_minor": 5
}
