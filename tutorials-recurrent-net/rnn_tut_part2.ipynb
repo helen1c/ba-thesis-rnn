{
 "cells": [
  {
   "cell_type": "code",
   "execution_count": 1,
   "metadata": {},
   "outputs": [],
   "source": [
    "# Imports\n",
    "%matplotlib notebook\n",
    "\n",
    "import sys\n",
    "import itertools\n",
    "import numpy as np  # Matrix and vector computation package\n",
    "import matplotlib\n",
    "import matplotlib.pyplot as plt  # Plotting library\n",
    "import seaborn as sns  # Fancier plots\n",
    "\n",
    "# Set seaborn plotting style\n",
    "sns.set_style('darkgrid')\n",
    "# Set the seed for reproducability\n",
    "np.random.seed(seed=1)\n",
    "#"
   ]
  },
  {
   "cell_type": "code",
   "execution_count": 7,
   "metadata": {},
   "outputs": [
    {
     "name": "stdout",
     "output_type": "stream",
     "text": [
      "X_train tensor shape: (2000, 7, 2)\n",
      "T_train tensor shape: (2000, 7, 1)\n"
     ]
    }
   ],
   "source": [
    "# Create dataset\n",
    "nb_train = 2000  # Number of training samples\n",
    "# Addition of 2 n-bit numbers can result in a n+1 bit number\n",
    "sequence_len = 7  # Length of the binary sequence\n",
    "\n",
    "def create_dataset(nb_samples, sequence_len):\n",
    "    \"\"\"Create a dataset for binary addition and \n",
    "    return as input, targets.\"\"\"\n",
    "    max_int = 2**(sequence_len-1) # Maximum integer that can be added\n",
    "     # Transform integer in binary format\n",
    "    format_str = '{:0' + str(sequence_len) + 'b}'\n",
    "    nb_inputs = 2  # Add 2 binary numbers\n",
    "    nb_outputs = 1  # Result is 1 binary number\n",
    "    # Input samples\n",
    "    X = np.zeros((nb_samples, sequence_len, nb_inputs))\n",
    "    # Target samples\n",
    "    T = np.zeros((nb_samples, sequence_len, nb_outputs))\n",
    "    # Fill up the input and target matrix\n",
    "    for i in range(nb_samples):\n",
    "        # Generate random numbers to add\n",
    "        nb1 = np.random.randint(0, max_int)\n",
    "        nb2 = np.random.randint(0, max_int)\n",
    "        # Fill current input and target row.\n",
    "        # Note that binary numbers are added from right to left, \n",
    "        #  but our RNN reads from left to right, so reverse the sequence.\n",
    "        X[i,:,0] = list(\n",
    "            reversed([int(b) for b in format_str.format(nb1)]))\n",
    "        X[i,:,1] = list(\n",
    "            reversed([int(b) for b in format_str.format(nb2)]))\n",
    "        T[i,:,0] = list(\n",
    "            reversed([int(b) for b in format_str.format(nb1+nb2)]))\n",
    "    return X, T\n",
    "\n",
    "# Create training samples\n",
    "X_train, T_train = create_dataset(nb_train, sequence_len)\n",
    "print(f'X_train tensor shape: {X_train.shape}')\n",
    "print(f'T_train tensor shape: {T_train.shape}')\n",
    "#"
   ]
  },
  {
   "cell_type": "code",
   "execution_count": 85,
   "metadata": {},
   "outputs": [],
   "source": [
    "class TensorLinear(object):\n",
    "    def __init__(self, n_in, n_out, tensor_order, W=None, b=None):\n",
    "        a = np.sqrt(6.0 / (n_in + n_out))\n",
    "        self.W = (np.random.uniform(-a, a, (n_in, n_out)) \n",
    "                  if W is None else W)\n",
    "        self.b = (np.zeros((n_out)) if b is None else b)\n",
    "        \n",
    "    def backward(self, X, gY):\n",
    "        # gW --> X -> ulaz, gY gradijenti izlaza, Y = X*W+B, dE/dW = dE/dY * dY/dW = gY * W\n",
    "        # gradijenti po W-u ce mi biti dimenzija W-a, tj 2*3 u konkretnom slucaju, pa imamo\n",
    "        # gB --> gradijent po biasu, X -> ulaz, gY prosli gradijent, onda imamo: Y = X*W+B = gY, gradijenti po biasu 1 * 3\n",
    "        # gradijent po ulazu --> dLoss/dX = dLoss/dY * dY/dX =gY, W\n",
    "        \n",
    "        gW = np.einsum('ijk,ijm->km', X, gY)\n",
    "        gB = np.einsum('ijk->k', Y)\n",
    "        gX = np.einsum('ijk,kd->ijd', gY, self.W.T)\n",
    "        \n",
    "        return gX, gW, gB\n",
    "        \n",
    "    def forward(self, X):\n",
    "        return np.einsum('ijk,kl->ijl', X, self.W) + self.b"
   ]
  },
  {
   "cell_type": "code",
   "execution_count": 86,
   "metadata": {},
   "outputs": [],
   "source": [
    "class LogisticClassifier(object):\n",
    "    \n",
    "    def forward(self, X):\n",
    "        return 1. / (1. + np.exp(-X))\n",
    "        \n",
    "    def backward(self, Y, T):\n",
    "        return (Y - T) / (Y.shape[0] * Y.shape[1])\n",
    "        \n",
    "    def loss(self, Y, T):\n",
    "        return -np.mean((T * np.log(Y)) + ((1-T) * np.log(1-Y)))"
   ]
  },
  {
   "cell_type": "code",
   "execution_count": 84,
   "metadata": {},
   "outputs": [],
   "source": [
    "class TanH(object):\n",
    "    def forward(self, X):\n",
    "        return np.tanh(X)\n",
    "    \n",
    "    def backward(self, Y, output_grad):\n",
    "        return (1.0 - Y**2) * output_grad"
   ]
  },
  {
   "cell_type": "code",
   "execution_count": 3,
   "metadata": {},
   "outputs": [],
   "source": [
    "class RecurrentStateUpdate(object):\n",
    "    def __init__(self, nbStates, W, b):\n",
    "        self.linear = TensorLinear(nbStates, nbStates, 2, W, b)\n",
    "        self.tanh = TanH()\n",
    "        \n",
    "    def forward(self, Xk, Sk):\n",
    "        return self.tanh.forward(Xk + self.linear.forward(Sk))\n",
    "    \n",
    "    def backward(self, Sk0, Sk1, output_grad):\n",
    "        gZ = self.tanh.backward(Sk1, output_grad)\n",
    "        gSk0, gW, gB = self.linear.backward(Sk0, gZ)\n",
    "        return gZ, gSk0, gW, gB"
   ]
  },
  {
   "cell_type": "code",
   "execution_count": null,
   "metadata": {},
   "outputs": [],
   "source": []
  },
  {
   "cell_type": "code",
   "execution_count": null,
   "metadata": {},
   "outputs": [],
   "source": []
  },
  {
   "cell_type": "code",
   "execution_count": null,
   "metadata": {},
   "outputs": [],
   "source": []
  },
  {
   "cell_type": "code",
   "execution_count": null,
   "metadata": {},
   "outputs": [],
   "source": []
  },
  {
   "cell_type": "code",
   "execution_count": null,
   "metadata": {},
   "outputs": [],
   "source": []
  },
  {
   "cell_type": "code",
   "execution_count": null,
   "metadata": {},
   "outputs": [],
   "source": []
  },
  {
   "cell_type": "code",
   "execution_count": null,
   "metadata": {},
   "outputs": [],
   "source": []
  },
  {
   "cell_type": "code",
   "execution_count": null,
   "metadata": {},
   "outputs": [],
   "source": []
  },
  {
   "cell_type": "code",
   "execution_count": null,
   "metadata": {},
   "outputs": [],
   "source": []
  },
  {
   "cell_type": "code",
   "execution_count": null,
   "metadata": {},
   "outputs": [],
   "source": []
  },
  {
   "cell_type": "code",
   "execution_count": null,
   "metadata": {},
   "outputs": [],
   "source": []
  },
  {
   "cell_type": "code",
   "execution_count": null,
   "metadata": {},
   "outputs": [],
   "source": []
  },
  {
   "cell_type": "code",
   "execution_count": null,
   "metadata": {},
   "outputs": [],
   "source": []
  },
  {
   "cell_type": "code",
   "execution_count": null,
   "metadata": {},
   "outputs": [],
   "source": []
  },
  {
   "cell_type": "code",
   "execution_count": 46,
   "metadata": {},
   "outputs": [
    {
     "name": "stdout",
     "output_type": "stream",
     "text": [
      "A matrix =\n",
      "[[[5 0]\n",
      "  [7 0]\n",
      "  [2 6]]\n",
      "\n",
      " [[2 1]\n",
      "  [0 9]\n",
      "  [0 1]]\n",
      "\n",
      " [[5 0]\n",
      "  [5 4]\n",
      "  [4 8]]]\n",
      "\n",
      "B matrix = \n",
      "[[[2 8 8 9]\n",
      "  [4 0 0 1]]\n",
      "\n",
      " [[3 3 1 9]\n",
      "  [9 3 5 6]]\n",
      "\n",
      " [[8 1 7 8]\n",
      "  [1 5 9 4]]]\n",
      "\n"
     ]
    }
   ],
   "source": [
    "#MATRIX MUL EXAMPLE\n",
    "A = np.random.randint(0, 10, size=(3, 3, 2))\n",
    "B = np.random.randint(0, 10, size=(3, 2, 4))\n",
    "\n",
    "print(f'A matrix =\\n{A}\\n')\n",
    "print(f'B matrix = \\n{B}\\n')"
   ]
  }
 ],
 "metadata": {
  "kernelspec": {
   "display_name": "Python 3",
   "language": "python",
   "name": "python3"
  },
  "language_info": {
   "codemirror_mode": {
    "name": "ipython",
    "version": 3
   },
   "file_extension": ".py",
   "mimetype": "text/x-python",
   "name": "python",
   "nbconvert_exporter": "python",
   "pygments_lexer": "ipython3",
   "version": "3.8.3"
  }
 },
 "nbformat": 4,
 "nbformat_minor": 5
}
